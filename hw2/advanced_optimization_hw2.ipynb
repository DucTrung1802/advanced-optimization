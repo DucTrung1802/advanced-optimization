{
 "cells": [
  {
   "cell_type": "markdown",
   "metadata": {},
   "source": [
    "# Advanced optimization - Homework 2"
   ]
  },
  {
   "cell_type": "markdown",
   "metadata": {
    "vscode": {
     "languageId": "plaintext"
    }
   },
   "source": [
    "## 1. Dataset introduction"
   ]
  },
  {
   "cell_type": "markdown",
   "metadata": {
    "vscode": {
     "languageId": "plaintext"
    }
   },
   "source": [
    "## 2. Setup"
   ]
  },
  {
   "cell_type": "markdown",
   "metadata": {},
   "source": [
    "### 2.0 Install libraries"
   ]
  },
  {
   "cell_type": "code",
   "execution_count": 461,
   "metadata": {},
   "outputs": [],
   "source": [
    "# !pip install numpy\n",
    "# !pip install pandas\n",
    "# !pip install xlrd\n",
    "# !pip install openpyxl\n",
    "# !pip install seaborn"
   ]
  },
  {
   "cell_type": "markdown",
   "metadata": {},
   "source": [
    "### 2.1 Import libaries"
   ]
  },
  {
   "cell_type": "code",
   "execution_count": 462,
   "metadata": {},
   "outputs": [],
   "source": [
    "import numpy as np\n",
    "import pandas as pd\n",
    "import re\n",
    "import matplotlib.pyplot as plt\n",
    "import seaborn as sns\n",
    "from sklearn.linear_model import LogisticRegression\n",
    "from sklearn.metrics import log_loss\n",
    "from sklearn.linear_model import SGDClassifier\n",
    "import random\n",
    "from enum import Enum\n",
    "\n",
    "import warnings\n",
    "from sklearn.exceptions import DataConversionWarning\n",
    "\n",
    "warnings.filterwarnings(action=\"ignore\", category=DataConversionWarning)\n",
    "random.seed(2)"
   ]
  },
  {
   "cell_type": "markdown",
   "metadata": {},
   "source": [
    "### 2.2 Setup parameters"
   ]
  },
  {
   "cell_type": "code",
   "execution_count": 463,
   "metadata": {},
   "outputs": [],
   "source": [
    "# FEATURES\n",
    "# employee_number\n",
    "# age                   : numerical\n",
    "# department            : no oder categorical\n",
    "# education             : order categorical\n",
    "# school                : no oder categorical\n",
    "# education_field       : no oder categorical\n",
    "# gender                : no oder categorical\n",
    "# job_level             : oder categorical\n",
    "# job_title             : no oder categorical\n",
    "# job_role              : no oder categorical\n",
    "# job_category          : no oder categorical\n",
    "# marital_status        : no oder categorical\n",
    "# performance_rating    : order categorical\n",
    "# years_at_company      : numerical\n",
    "\n",
    "# OUTPUT\n",
    "# attrition             : binary output"
   ]
  },
  {
   "cell_type": "markdown",
   "metadata": {},
   "source": [
    "#### 2.2.1 Dataset parameters"
   ]
  },
  {
   "cell_type": "code",
   "execution_count": 464,
   "metadata": {},
   "outputs": [],
   "source": [
    "DATASET_FILE_NAME = \"hr_dataset.xlsx\"\n",
    "NUMERICAL_FEATURES = [\"age\", \"years_at_company\"]\n",
    "ORDER_CATEGORICAL_FEATURES = [\"education\", \"job_level\", \"performance_rating\"]\n",
    "NO_ORDER_CATEGORICAL_FEATURES = [\"department\", \"school\", \"education_field\", \"gender\", \"job_category\", \"marital_status\"]\n",
    "OUTPUT_NAME = [\"attrition\"]"
   ]
  },
  {
   "cell_type": "code",
   "execution_count": 465,
   "metadata": {},
   "outputs": [
    {
     "name": "stdout",
     "output_type": "stream",
     "text": [
      "Total number of features:  12\n"
     ]
    }
   ],
   "source": [
    "total_number_of_features = len(NUMERICAL_FEATURES) + len(ORDER_CATEGORICAL_FEATURES) + len(NO_ORDER_CATEGORICAL_FEATURES) + len(OUTPUT_NAME)\n",
    "print(\"Total number of features: \", total_number_of_features)"
   ]
  },
  {
   "cell_type": "markdown",
   "metadata": {},
   "source": [
    "#### 2.2.2 GRADIENT DESCENT parameters"
   ]
  },
  {
   "cell_type": "markdown",
   "metadata": {},
   "source": [
    "### 2.3 Import dataset"
   ]
  },
  {
   "cell_type": "code",
   "execution_count": 466,
   "metadata": {},
   "outputs": [],
   "source": [
    "df = pd.read_excel(DATASET_FILE_NAME)"
   ]
  },
  {
   "cell_type": "code",
   "execution_count": 467,
   "metadata": {},
   "outputs": [
    {
     "data": {
      "text/html": [
       "<div>\n",
       "<style scoped>\n",
       "    .dataframe tbody tr th:only-of-type {\n",
       "        vertical-align: middle;\n",
       "    }\n",
       "\n",
       "    .dataframe tbody tr th {\n",
       "        vertical-align: top;\n",
       "    }\n",
       "\n",
       "    .dataframe thead th {\n",
       "        text-align: right;\n",
       "    }\n",
       "</style>\n",
       "<table border=\"1\" class=\"dataframe\">\n",
       "  <thead>\n",
       "    <tr style=\"text-align: right;\">\n",
       "      <th></th>\n",
       "      <th>Age</th>\n",
       "      <th>Department</th>\n",
       "      <th>Education</th>\n",
       "      <th>school</th>\n",
       "      <th>EducationField</th>\n",
       "      <th>Gender</th>\n",
       "      <th>JobLevel</th>\n",
       "      <th>jobCategory</th>\n",
       "      <th>MaritalStatus</th>\n",
       "      <th>PerformanceRating</th>\n",
       "      <th>YearsAtCompany</th>\n",
       "      <th>Attrition</th>\n",
       "    </tr>\n",
       "  </thead>\n",
       "  <tbody>\n",
       "    <tr>\n",
       "      <th>0</th>\n",
       "      <td>42</td>\n",
       "      <td>FGC</td>\n",
       "      <td>3</td>\n",
       "      <td>Đại học Hà Nội</td>\n",
       "      <td>Ngôn ngữ</td>\n",
       "      <td>Female</td>\n",
       "      <td>4</td>\n",
       "      <td>Comtor</td>\n",
       "      <td>Married</td>\n",
       "      <td>4</td>\n",
       "      <td>8.863014</td>\n",
       "      <td>No</td>\n",
       "    </tr>\n",
       "    <tr>\n",
       "      <th>1</th>\n",
       "      <td>44</td>\n",
       "      <td>FHN</td>\n",
       "      <td>3</td>\n",
       "      <td>Đại học Bách khoa Hà Nội</td>\n",
       "      <td>Other</td>\n",
       "      <td>Female</td>\n",
       "      <td>4</td>\n",
       "      <td>Tester</td>\n",
       "      <td>Married</td>\n",
       "      <td>4</td>\n",
       "      <td>19.761644</td>\n",
       "      <td>No</td>\n",
       "    </tr>\n",
       "    <tr>\n",
       "      <th>2</th>\n",
       "      <td>47</td>\n",
       "      <td>FSG</td>\n",
       "      <td>3</td>\n",
       "      <td>Đại học QG Hà Nội-Khoa Kinh tế</td>\n",
       "      <td>Kinh tế</td>\n",
       "      <td>Female</td>\n",
       "      <td>4</td>\n",
       "      <td>PM</td>\n",
       "      <td>Married</td>\n",
       "      <td>3</td>\n",
       "      <td>4.501370</td>\n",
       "      <td>No</td>\n",
       "    </tr>\n",
       "    <tr>\n",
       "      <th>3</th>\n",
       "      <td>42</td>\n",
       "      <td>GHC</td>\n",
       "      <td>3</td>\n",
       "      <td>Đại học Bách khoa Hà Nội</td>\n",
       "      <td>Kỹ thuật</td>\n",
       "      <td>Female</td>\n",
       "      <td>4</td>\n",
       "      <td>Tester</td>\n",
       "      <td>Married</td>\n",
       "      <td>4</td>\n",
       "      <td>19.263014</td>\n",
       "      <td>No</td>\n",
       "    </tr>\n",
       "    <tr>\n",
       "      <th>4</th>\n",
       "      <td>43</td>\n",
       "      <td>FHN</td>\n",
       "      <td>3</td>\n",
       "      <td>Đại học Kinh tế quốc dân</td>\n",
       "      <td>Kinh tế</td>\n",
       "      <td>Female</td>\n",
       "      <td>4</td>\n",
       "      <td>Tester</td>\n",
       "      <td>Married</td>\n",
       "      <td>3</td>\n",
       "      <td>18.975342</td>\n",
       "      <td>No</td>\n",
       "    </tr>\n",
       "    <tr>\n",
       "      <th>...</th>\n",
       "      <td>...</td>\n",
       "      <td>...</td>\n",
       "      <td>...</td>\n",
       "      <td>...</td>\n",
       "      <td>...</td>\n",
       "      <td>...</td>\n",
       "      <td>...</td>\n",
       "      <td>...</td>\n",
       "      <td>...</td>\n",
       "      <td>...</td>\n",
       "      <td>...</td>\n",
       "      <td>...</td>\n",
       "    </tr>\n",
       "    <tr>\n",
       "      <th>4995</th>\n",
       "      <td>34</td>\n",
       "      <td>JES</td>\n",
       "      <td>3</td>\n",
       "      <td>Đại học Công Nghệ TP HCM</td>\n",
       "      <td>Công nghệ</td>\n",
       "      <td>Male</td>\n",
       "      <td>4</td>\n",
       "      <td>BA</td>\n",
       "      <td>Single</td>\n",
       "      <td>3</td>\n",
       "      <td>0.917808</td>\n",
       "      <td>No</td>\n",
       "    </tr>\n",
       "    <tr>\n",
       "      <th>4996</th>\n",
       "      <td>24</td>\n",
       "      <td>FA VN</td>\n",
       "      <td>3</td>\n",
       "      <td>Đại học Công nghiệp TPHCM</td>\n",
       "      <td>Kỹ thuật</td>\n",
       "      <td>Male</td>\n",
       "      <td>3</td>\n",
       "      <td>Engineer</td>\n",
       "      <td>Single</td>\n",
       "      <td>4</td>\n",
       "      <td>0.189041</td>\n",
       "      <td>No</td>\n",
       "    </tr>\n",
       "    <tr>\n",
       "      <th>4997</th>\n",
       "      <td>28</td>\n",
       "      <td>FSG</td>\n",
       "      <td>3</td>\n",
       "      <td>Đại học Kinh tế HCM</td>\n",
       "      <td>Kinh tế</td>\n",
       "      <td>Female</td>\n",
       "      <td>3</td>\n",
       "      <td>BA</td>\n",
       "      <td>Single</td>\n",
       "      <td>4</td>\n",
       "      <td>3.235616</td>\n",
       "      <td>No</td>\n",
       "    </tr>\n",
       "    <tr>\n",
       "      <th>4998</th>\n",
       "      <td>29</td>\n",
       "      <td>FHM</td>\n",
       "      <td>2</td>\n",
       "      <td>NaN</td>\n",
       "      <td>Công nghệ</td>\n",
       "      <td>Male</td>\n",
       "      <td>2</td>\n",
       "      <td>Engineer</td>\n",
       "      <td>Single</td>\n",
       "      <td>3</td>\n",
       "      <td>2.252055</td>\n",
       "      <td>Yes</td>\n",
       "    </tr>\n",
       "    <tr>\n",
       "      <th>4999</th>\n",
       "      <td>27</td>\n",
       "      <td>FI</td>\n",
       "      <td>3</td>\n",
       "      <td>NaN</td>\n",
       "      <td>Công nghệ</td>\n",
       "      <td>Male</td>\n",
       "      <td>3</td>\n",
       "      <td>Engineer</td>\n",
       "      <td>Single</td>\n",
       "      <td>3</td>\n",
       "      <td>2.736986</td>\n",
       "      <td>Yes</td>\n",
       "    </tr>\n",
       "  </tbody>\n",
       "</table>\n",
       "<p>5000 rows × 12 columns</p>\n",
       "</div>"
      ],
      "text/plain": [
       "      Age Department  Education                          school  \\\n",
       "0      42        FGC          3                  Đại học Hà Nội   \n",
       "1      44        FHN          3        Đại học Bách khoa Hà Nội   \n",
       "2      47        FSG          3  Đại học QG Hà Nội-Khoa Kinh tế   \n",
       "3      42        GHC          3        Đại học Bách khoa Hà Nội   \n",
       "4      43        FHN          3        Đại học Kinh tế quốc dân   \n",
       "...   ...        ...        ...                             ...   \n",
       "4995   34        JES          3        Đại học Công Nghệ TP HCM   \n",
       "4996   24      FA VN          3       Đại học Công nghiệp TPHCM   \n",
       "4997   28        FSG          3             Đại học Kinh tế HCM   \n",
       "4998   29        FHM          2                             NaN   \n",
       "4999   27         FI          3                             NaN   \n",
       "\n",
       "     EducationField  Gender  JobLevel jobCategory MaritalStatus  \\\n",
       "0          Ngôn ngữ  Female         4      Comtor       Married   \n",
       "1             Other  Female         4      Tester       Married   \n",
       "2           Kinh tế  Female         4          PM       Married   \n",
       "3          Kỹ thuật  Female         4      Tester       Married   \n",
       "4           Kinh tế  Female         4      Tester       Married   \n",
       "...             ...     ...       ...         ...           ...   \n",
       "4995      Công nghệ    Male         4          BA        Single   \n",
       "4996       Kỹ thuật    Male         3    Engineer        Single   \n",
       "4997        Kinh tế  Female         3          BA        Single   \n",
       "4998      Công nghệ    Male         2    Engineer        Single   \n",
       "4999      Công nghệ    Male         3    Engineer        Single   \n",
       "\n",
       "      PerformanceRating  YearsAtCompany Attrition  \n",
       "0                     4        8.863014        No  \n",
       "1                     4       19.761644        No  \n",
       "2                     3        4.501370        No  \n",
       "3                     4       19.263014        No  \n",
       "4                     3       18.975342        No  \n",
       "...                 ...             ...       ...  \n",
       "4995                  3        0.917808        No  \n",
       "4996                  4        0.189041        No  \n",
       "4997                  4        3.235616        No  \n",
       "4998                  3        2.252055       Yes  \n",
       "4999                  3        2.736986       Yes  \n",
       "\n",
       "[5000 rows x 12 columns]"
      ]
     },
     "execution_count": 467,
     "metadata": {},
     "output_type": "execute_result"
    }
   ],
   "source": [
    "df"
   ]
  },
  {
   "cell_type": "markdown",
   "metadata": {},
   "source": [
    "### 2.4 Overview of dataset"
   ]
  },
  {
   "cell_type": "code",
   "execution_count": 468,
   "metadata": {},
   "outputs": [
    {
     "data": {
      "text/plain": [
       "['age',\n",
       " 'department',\n",
       " 'education',\n",
       " 'school',\n",
       " 'education_field',\n",
       " 'gender',\n",
       " 'job_level',\n",
       " 'job_category',\n",
       " 'marital_status',\n",
       " 'performance_rating',\n",
       " 'years_at_company',\n",
       " 'attrition']"
      ]
     },
     "execution_count": 468,
     "metadata": {},
     "output_type": "execute_result"
    }
   ],
   "source": [
    "def camel_to_snake(name):\n",
    "    s1 = re.sub('(.)([A-Z][a-z]+)', r'\\1_\\2', name)\n",
    "    return re.sub('([a-z0-9])([A-Z])', r'\\1_\\2', s1).lower()\n",
    "\n",
    "def standardize_column_names(column_list):\n",
    "    return [camel_to_snake(col) for col in column_list]\n",
    "\n",
    "standardize_column_names(df.columns)"
   ]
  },
  {
   "cell_type": "code",
   "execution_count": 469,
   "metadata": {},
   "outputs": [],
   "source": [
    "df.columns = standardize_column_names(df.columns)"
   ]
  },
  {
   "cell_type": "code",
   "execution_count": 470,
   "metadata": {},
   "outputs": [
    {
     "data": {
      "text/plain": [
       "Index(['age', 'department', 'education', 'school', 'education_field', 'gender',\n",
       "       'job_level', 'job_category', 'marital_status', 'performance_rating',\n",
       "       'years_at_company', 'attrition'],\n",
       "      dtype='object')"
      ]
     },
     "execution_count": 470,
     "metadata": {},
     "output_type": "execute_result"
    }
   ],
   "source": [
    "df.columns"
   ]
  },
  {
   "cell_type": "code",
   "execution_count": 471,
   "metadata": {},
   "outputs": [
    {
     "data": {
      "text/plain": [
       "<Axes: >"
      ]
     },
     "execution_count": 471,
     "metadata": {},
     "output_type": "execute_result"
    },
    {
     "data": {
      "image/png": "[encoded data removed]",
      "text/plain": [
       "<Figure size 640x480 with 1 Axes>"
      ]
     },
     "metadata": {},
     "output_type": "display_data"
    }
   ],
   "source": [
    "sns.heatmap(df.isnull(), cmap=\"Blues_r\", cbar=False, yticklabels=False)"
   ]
  },
  {
   "cell_type": "markdown",
   "metadata": {},
   "source": [
    "### 2.5 age"
   ]
  },
  {
   "cell_type": "code",
   "execution_count": 472,
   "metadata": {},
   "outputs": [
    {
     "data": {
      "text/plain": [
       "count    5000.000000\n",
       "mean       29.967600\n",
       "std         4.880176\n",
       "min        19.000000\n",
       "25%        26.000000\n",
       "50%        29.000000\n",
       "75%        33.000000\n",
       "max        50.000000\n",
       "Name: age, dtype: float64"
      ]
     },
     "execution_count": 472,
     "metadata": {},
     "output_type": "execute_result"
    }
   ],
   "source": [
    "df[\"age\"].describe()"
   ]
  },
  {
   "cell_type": "markdown",
   "metadata": {},
   "source": [
    "### 2.6 department"
   ]
  },
  {
   "cell_type": "code",
   "execution_count": 473,
   "metadata": {},
   "outputs": [
    {
     "data": {
      "text/plain": [
       "count     4998\n",
       "unique      59\n",
       "top         FI\n",
       "freq       766\n",
       "Name: department, dtype: object"
      ]
     },
     "execution_count": 473,
     "metadata": {},
     "output_type": "execute_result"
    }
   ],
   "source": [
    "df[\"department\"].describe()"
   ]
  },
  {
   "cell_type": "markdown",
   "metadata": {},
   "source": [
    "### 2.7 education"
   ]
  },
  {
   "cell_type": "code",
   "execution_count": 474,
   "metadata": {},
   "outputs": [
    {
     "data": {
      "text/plain": [
       "count    5000.000000\n",
       "mean        2.849200\n",
       "std         0.500509\n",
       "min         1.000000\n",
       "25%         3.000000\n",
       "50%         3.000000\n",
       "75%         3.000000\n",
       "max         5.000000\n",
       "Name: education, dtype: float64"
      ]
     },
     "execution_count": 474,
     "metadata": {},
     "output_type": "execute_result"
    }
   ],
   "source": [
    "df[\"education\"].describe()"
   ]
  },
  {
   "cell_type": "markdown",
   "metadata": {
    "vscode": {
     "languageId": "plaintext"
    }
   },
   "source": [
    "## 3. Data cleaning"
   ]
  },
  {
   "cell_type": "markdown",
   "metadata": {},
   "source": [
    "### 3.1 Data cleaning"
   ]
  },
  {
   "cell_type": "code",
   "execution_count": 475,
   "metadata": {},
   "outputs": [
    {
     "data": {
      "text/html": [
       "<div>\n",
       "<style scoped>\n",
       "    .dataframe tbody tr th:only-of-type {\n",
       "        vertical-align: middle;\n",
       "    }\n",
       "\n",
       "    .dataframe tbody tr th {\n",
       "        vertical-align: top;\n",
       "    }\n",
       "\n",
       "    .dataframe thead th {\n",
       "        text-align: right;\n",
       "    }\n",
       "</style>\n",
       "<table border=\"1\" class=\"dataframe\">\n",
       "  <thead>\n",
       "    <tr style=\"text-align: right;\">\n",
       "      <th></th>\n",
       "      <th>education</th>\n",
       "      <th>job_level</th>\n",
       "      <th>performance_rating</th>\n",
       "      <th>years_at_company</th>\n",
       "      <th>department_AIC</th>\n",
       "      <th>department_AMG</th>\n",
       "      <th>department_CEP</th>\n",
       "      <th>department_DES</th>\n",
       "      <th>department_DPS</th>\n",
       "      <th>department_DXG</th>\n",
       "      <th>...</th>\n",
       "      <th>job_category_Others</th>\n",
       "      <th>job_category_PM</th>\n",
       "      <th>job_category_Product Engineering</th>\n",
       "      <th>job_category_QA</th>\n",
       "      <th>job_category_Tester</th>\n",
       "      <th>marital_status_Divorced</th>\n",
       "      <th>marital_status_Married</th>\n",
       "      <th>marital_status_Single</th>\n",
       "      <th>marital_status_Unknown</th>\n",
       "      <th>attrition</th>\n",
       "    </tr>\n",
       "  </thead>\n",
       "  <tbody>\n",
       "    <tr>\n",
       "      <th>0</th>\n",
       "      <td>3</td>\n",
       "      <td>4</td>\n",
       "      <td>4</td>\n",
       "      <td>8.863014</td>\n",
       "      <td>0</td>\n",
       "      <td>0</td>\n",
       "      <td>0</td>\n",
       "      <td>0</td>\n",
       "      <td>0</td>\n",
       "      <td>0</td>\n",
       "      <td>...</td>\n",
       "      <td>0</td>\n",
       "      <td>0</td>\n",
       "      <td>0</td>\n",
       "      <td>0</td>\n",
       "      <td>0</td>\n",
       "      <td>0</td>\n",
       "      <td>1</td>\n",
       "      <td>0</td>\n",
       "      <td>0</td>\n",
       "      <td>0</td>\n",
       "    </tr>\n",
       "    <tr>\n",
       "      <th>1</th>\n",
       "      <td>3</td>\n",
       "      <td>4</td>\n",
       "      <td>4</td>\n",
       "      <td>19.761644</td>\n",
       "      <td>0</td>\n",
       "      <td>0</td>\n",
       "      <td>0</td>\n",
       "      <td>0</td>\n",
       "      <td>0</td>\n",
       "      <td>0</td>\n",
       "      <td>...</td>\n",
       "      <td>0</td>\n",
       "      <td>0</td>\n",
       "      <td>0</td>\n",
       "      <td>0</td>\n",
       "      <td>1</td>\n",
       "      <td>0</td>\n",
       "      <td>1</td>\n",
       "      <td>0</td>\n",
       "      <td>0</td>\n",
       "      <td>0</td>\n",
       "    </tr>\n",
       "    <tr>\n",
       "      <th>2</th>\n",
       "      <td>3</td>\n",
       "      <td>4</td>\n",
       "      <td>3</td>\n",
       "      <td>4.501370</td>\n",
       "      <td>0</td>\n",
       "      <td>0</td>\n",
       "      <td>0</td>\n",
       "      <td>0</td>\n",
       "      <td>0</td>\n",
       "      <td>0</td>\n",
       "      <td>...</td>\n",
       "      <td>0</td>\n",
       "      <td>1</td>\n",
       "      <td>0</td>\n",
       "      <td>0</td>\n",
       "      <td>0</td>\n",
       "      <td>0</td>\n",
       "      <td>1</td>\n",
       "      <td>0</td>\n",
       "      <td>0</td>\n",
       "      <td>0</td>\n",
       "    </tr>\n",
       "    <tr>\n",
       "      <th>3</th>\n",
       "      <td>3</td>\n",
       "      <td>4</td>\n",
       "      <td>4</td>\n",
       "      <td>19.263014</td>\n",
       "      <td>0</td>\n",
       "      <td>0</td>\n",
       "      <td>0</td>\n",
       "      <td>0</td>\n",
       "      <td>0</td>\n",
       "      <td>0</td>\n",
       "      <td>...</td>\n",
       "      <td>0</td>\n",
       "      <td>0</td>\n",
       "      <td>0</td>\n",
       "      <td>0</td>\n",
       "      <td>1</td>\n",
       "      <td>0</td>\n",
       "      <td>1</td>\n",
       "      <td>0</td>\n",
       "      <td>0</td>\n",
       "      <td>0</td>\n",
       "    </tr>\n",
       "    <tr>\n",
       "      <th>4</th>\n",
       "      <td>3</td>\n",
       "      <td>4</td>\n",
       "      <td>3</td>\n",
       "      <td>18.975342</td>\n",
       "      <td>0</td>\n",
       "      <td>0</td>\n",
       "      <td>0</td>\n",
       "      <td>0</td>\n",
       "      <td>0</td>\n",
       "      <td>0</td>\n",
       "      <td>...</td>\n",
       "      <td>0</td>\n",
       "      <td>0</td>\n",
       "      <td>0</td>\n",
       "      <td>0</td>\n",
       "      <td>1</td>\n",
       "      <td>0</td>\n",
       "      <td>1</td>\n",
       "      <td>0</td>\n",
       "      <td>0</td>\n",
       "      <td>0</td>\n",
       "    </tr>\n",
       "    <tr>\n",
       "      <th>...</th>\n",
       "      <td>...</td>\n",
       "      <td>...</td>\n",
       "      <td>...</td>\n",
       "      <td>...</td>\n",
       "      <td>...</td>\n",
       "      <td>...</td>\n",
       "      <td>...</td>\n",
       "      <td>...</td>\n",
       "      <td>...</td>\n",
       "      <td>...</td>\n",
       "      <td>...</td>\n",
       "      <td>...</td>\n",
       "      <td>...</td>\n",
       "      <td>...</td>\n",
       "      <td>...</td>\n",
       "      <td>...</td>\n",
       "      <td>...</td>\n",
       "      <td>...</td>\n",
       "      <td>...</td>\n",
       "      <td>...</td>\n",
       "      <td>...</td>\n",
       "    </tr>\n",
       "    <tr>\n",
       "      <th>4995</th>\n",
       "      <td>3</td>\n",
       "      <td>4</td>\n",
       "      <td>3</td>\n",
       "      <td>0.917808</td>\n",
       "      <td>0</td>\n",
       "      <td>0</td>\n",
       "      <td>0</td>\n",
       "      <td>0</td>\n",
       "      <td>0</td>\n",
       "      <td>0</td>\n",
       "      <td>...</td>\n",
       "      <td>0</td>\n",
       "      <td>0</td>\n",
       "      <td>0</td>\n",
       "      <td>0</td>\n",
       "      <td>0</td>\n",
       "      <td>0</td>\n",
       "      <td>0</td>\n",
       "      <td>1</td>\n",
       "      <td>0</td>\n",
       "      <td>0</td>\n",
       "    </tr>\n",
       "    <tr>\n",
       "      <th>4996</th>\n",
       "      <td>3</td>\n",
       "      <td>3</td>\n",
       "      <td>4</td>\n",
       "      <td>0.189041</td>\n",
       "      <td>0</td>\n",
       "      <td>0</td>\n",
       "      <td>0</td>\n",
       "      <td>0</td>\n",
       "      <td>0</td>\n",
       "      <td>0</td>\n",
       "      <td>...</td>\n",
       "      <td>0</td>\n",
       "      <td>0</td>\n",
       "      <td>0</td>\n",
       "      <td>0</td>\n",
       "      <td>0</td>\n",
       "      <td>0</td>\n",
       "      <td>0</td>\n",
       "      <td>1</td>\n",
       "      <td>0</td>\n",
       "      <td>0</td>\n",
       "    </tr>\n",
       "    <tr>\n",
       "      <th>4997</th>\n",
       "      <td>3</td>\n",
       "      <td>3</td>\n",
       "      <td>4</td>\n",
       "      <td>3.235616</td>\n",
       "      <td>0</td>\n",
       "      <td>0</td>\n",
       "      <td>0</td>\n",
       "      <td>0</td>\n",
       "      <td>0</td>\n",
       "      <td>0</td>\n",
       "      <td>...</td>\n",
       "      <td>0</td>\n",
       "      <td>0</td>\n",
       "      <td>0</td>\n",
       "      <td>0</td>\n",
       "      <td>0</td>\n",
       "      <td>0</td>\n",
       "      <td>0</td>\n",
       "      <td>1</td>\n",
       "      <td>0</td>\n",
       "      <td>0</td>\n",
       "    </tr>\n",
       "    <tr>\n",
       "      <th>4998</th>\n",
       "      <td>2</td>\n",
       "      <td>2</td>\n",
       "      <td>3</td>\n",
       "      <td>2.252055</td>\n",
       "      <td>0</td>\n",
       "      <td>0</td>\n",
       "      <td>0</td>\n",
       "      <td>0</td>\n",
       "      <td>0</td>\n",
       "      <td>0</td>\n",
       "      <td>...</td>\n",
       "      <td>0</td>\n",
       "      <td>0</td>\n",
       "      <td>0</td>\n",
       "      <td>0</td>\n",
       "      <td>0</td>\n",
       "      <td>0</td>\n",
       "      <td>0</td>\n",
       "      <td>1</td>\n",
       "      <td>0</td>\n",
       "      <td>1</td>\n",
       "    </tr>\n",
       "    <tr>\n",
       "      <th>4999</th>\n",
       "      <td>3</td>\n",
       "      <td>3</td>\n",
       "      <td>3</td>\n",
       "      <td>2.736986</td>\n",
       "      <td>0</td>\n",
       "      <td>0</td>\n",
       "      <td>0</td>\n",
       "      <td>0</td>\n",
       "      <td>0</td>\n",
       "      <td>0</td>\n",
       "      <td>...</td>\n",
       "      <td>0</td>\n",
       "      <td>0</td>\n",
       "      <td>0</td>\n",
       "      <td>0</td>\n",
       "      <td>0</td>\n",
       "      <td>0</td>\n",
       "      <td>0</td>\n",
       "      <td>1</td>\n",
       "      <td>0</td>\n",
       "      <td>1</td>\n",
       "    </tr>\n",
       "  </tbody>\n",
       "</table>\n",
       "<p>5000 rows × 397 columns</p>\n",
       "</div>"
      ],
      "text/plain": [
       "      education  job_level  performance_rating  years_at_company  \\\n",
       "0             3          4                   4          8.863014   \n",
       "1             3          4                   4         19.761644   \n",
       "2             3          4                   3          4.501370   \n",
       "3             3          4                   4         19.263014   \n",
       "4             3          4                   3         18.975342   \n",
       "...         ...        ...                 ...               ...   \n",
       "4995          3          4                   3          0.917808   \n",
       "4996          3          3                   4          0.189041   \n",
       "4997          3          3                   4          3.235616   \n",
       "4998          2          2                   3          2.252055   \n",
       "4999          3          3                   3          2.736986   \n",
       "\n",
       "      department_AIC  department_AMG  department_CEP  department_DES  \\\n",
       "0                  0               0               0               0   \n",
       "1                  0               0               0               0   \n",
       "2                  0               0               0               0   \n",
       "3                  0               0               0               0   \n",
       "4                  0               0               0               0   \n",
       "...              ...             ...             ...             ...   \n",
       "4995               0               0               0               0   \n",
       "4996               0               0               0               0   \n",
       "4997               0               0               0               0   \n",
       "4998               0               0               0               0   \n",
       "4999               0               0               0               0   \n",
       "\n",
       "      department_DPS  department_DXG  ...  job_category_Others  \\\n",
       "0                  0               0  ...                    0   \n",
       "1                  0               0  ...                    0   \n",
       "2                  0               0  ...                    0   \n",
       "3                  0               0  ...                    0   \n",
       "4                  0               0  ...                    0   \n",
       "...              ...             ...  ...                  ...   \n",
       "4995               0               0  ...                    0   \n",
       "4996               0               0  ...                    0   \n",
       "4997               0               0  ...                    0   \n",
       "4998               0               0  ...                    0   \n",
       "4999               0               0  ...                    0   \n",
       "\n",
       "      job_category_PM  job_category_Product Engineering  job_category_QA  \\\n",
       "0                   0                                 0                0   \n",
       "1                   0                                 0                0   \n",
       "2                   1                                 0                0   \n",
       "3                   0                                 0                0   \n",
       "4                   0                                 0                0   \n",
       "...               ...                               ...              ...   \n",
       "4995                0                                 0                0   \n",
       "4996                0                                 0                0   \n",
       "4997                0                                 0                0   \n",
       "4998                0                                 0                0   \n",
       "4999                0                                 0                0   \n",
       "\n",
       "      job_category_Tester  marital_status_Divorced  marital_status_Married  \\\n",
       "0                       0                        0                       1   \n",
       "1                       1                        0                       1   \n",
       "2                       0                        0                       1   \n",
       "3                       1                        0                       1   \n",
       "4                       1                        0                       1   \n",
       "...                   ...                      ...                     ...   \n",
       "4995                    0                        0                       0   \n",
       "4996                    0                        0                       0   \n",
       "4997                    0                        0                       0   \n",
       "4998                    0                        0                       0   \n",
       "4999                    0                        0                       0   \n",
       "\n",
       "      marital_status_Single  marital_status_Unknown  attrition  \n",
       "0                         0                       0          0  \n",
       "1                         0                       0          0  \n",
       "2                         0                       0          0  \n",
       "3                         0                       0          0  \n",
       "4                         0                       0          0  \n",
       "...                     ...                     ...        ...  \n",
       "4995                      1                       0          0  \n",
       "4996                      1                       0          0  \n",
       "4997                      1                       0          0  \n",
       "4998                      1                       0          1  \n",
       "4999                      1                       0          1  \n",
       "\n",
       "[5000 rows x 397 columns]"
      ]
     },
     "execution_count": 475,
     "metadata": {},
     "output_type": "execute_result"
    }
   ],
   "source": [
    "# One hot encoding\n",
    "cleaned_df = pd.get_dummies(df, columns=NO_ORDER_CATEGORICAL_FEATURES)\n",
    "\n",
    "# Remove \"employee_number\"\n",
    "cleaned_df = cleaned_df.iloc[:, 1:]\n",
    "\n",
    "# Convert all boolean to integer\n",
    "for col in cleaned_df.columns:\n",
    "    if cleaned_df[col].dtype == np.bool_:\n",
    "        cleaned_df[col] = cleaned_df[col].astype(int)\n",
    "\n",
    "# Convert output\n",
    "cleaned_df[\"attrition\"] = cleaned_df[\"attrition\"].map({\"Yes\": 1, \"No\": 0})\n",
    "\n",
    "# Move output column to the last position\n",
    "attrition_column = cleaned_df.pop(\"attrition\")\n",
    "cleaned_df = pd.concat([cleaned_df, attrition_column], axis=1)\n",
    "\n",
    "cleaned_df"
   ]
  },
  {
   "cell_type": "markdown",
   "metadata": {},
   "source": [
    "### 3.2 Data standardization"
   ]
  },
  {
   "cell_type": "code",
   "execution_count": 476,
   "metadata": {},
   "outputs": [
    {
     "name": "stdout",
     "output_type": "stream",
     "text": [
      "hello\n"
     ]
    }
   ],
   "source": [
    "print(\"hello\")"
   ]
  },
  {
   "cell_type": "markdown",
   "metadata": {},
   "source": [
    "### 3.3 Summary X and y"
   ]
  },
  {
   "cell_type": "code",
   "execution_count": 477,
   "metadata": {},
   "outputs": [
    {
     "data": {
      "text/html": [
       "<div>\n",
       "<style scoped>\n",
       "    .dataframe tbody tr th:only-of-type {\n",
       "        vertical-align: middle;\n",
       "    }\n",
       "\n",
       "    .dataframe tbody tr th {\n",
       "        vertical-align: top;\n",
       "    }\n",
       "\n",
       "    .dataframe thead th {\n",
       "        text-align: right;\n",
       "    }\n",
       "</style>\n",
       "<table border=\"1\" class=\"dataframe\">\n",
       "  <thead>\n",
       "    <tr style=\"text-align: right;\">\n",
       "      <th></th>\n",
       "      <th>education</th>\n",
       "      <th>job_level</th>\n",
       "      <th>performance_rating</th>\n",
       "      <th>years_at_company</th>\n",
       "      <th>department_AIC</th>\n",
       "      <th>department_AMG</th>\n",
       "      <th>department_CEP</th>\n",
       "      <th>department_DES</th>\n",
       "      <th>department_DPS</th>\n",
       "      <th>department_DXG</th>\n",
       "      <th>...</th>\n",
       "      <th>job_category_Manager</th>\n",
       "      <th>job_category_Others</th>\n",
       "      <th>job_category_PM</th>\n",
       "      <th>job_category_Product Engineering</th>\n",
       "      <th>job_category_QA</th>\n",
       "      <th>job_category_Tester</th>\n",
       "      <th>marital_status_Divorced</th>\n",
       "      <th>marital_status_Married</th>\n",
       "      <th>marital_status_Single</th>\n",
       "      <th>marital_status_Unknown</th>\n",
       "    </tr>\n",
       "  </thead>\n",
       "  <tbody>\n",
       "    <tr>\n",
       "      <th>0</th>\n",
       "      <td>3</td>\n",
       "      <td>4</td>\n",
       "      <td>4</td>\n",
       "      <td>8.863014</td>\n",
       "      <td>0</td>\n",
       "      <td>0</td>\n",
       "      <td>0</td>\n",
       "      <td>0</td>\n",
       "      <td>0</td>\n",
       "      <td>0</td>\n",
       "      <td>...</td>\n",
       "      <td>0</td>\n",
       "      <td>0</td>\n",
       "      <td>0</td>\n",
       "      <td>0</td>\n",
       "      <td>0</td>\n",
       "      <td>0</td>\n",
       "      <td>0</td>\n",
       "      <td>1</td>\n",
       "      <td>0</td>\n",
       "      <td>0</td>\n",
       "    </tr>\n",
       "    <tr>\n",
       "      <th>1</th>\n",
       "      <td>3</td>\n",
       "      <td>4</td>\n",
       "      <td>4</td>\n",
       "      <td>19.761644</td>\n",
       "      <td>0</td>\n",
       "      <td>0</td>\n",
       "      <td>0</td>\n",
       "      <td>0</td>\n",
       "      <td>0</td>\n",
       "      <td>0</td>\n",
       "      <td>...</td>\n",
       "      <td>0</td>\n",
       "      <td>0</td>\n",
       "      <td>0</td>\n",
       "      <td>0</td>\n",
       "      <td>0</td>\n",
       "      <td>1</td>\n",
       "      <td>0</td>\n",
       "      <td>1</td>\n",
       "      <td>0</td>\n",
       "      <td>0</td>\n",
       "    </tr>\n",
       "    <tr>\n",
       "      <th>2</th>\n",
       "      <td>3</td>\n",
       "      <td>4</td>\n",
       "      <td>3</td>\n",
       "      <td>4.501370</td>\n",
       "      <td>0</td>\n",
       "      <td>0</td>\n",
       "      <td>0</td>\n",
       "      <td>0</td>\n",
       "      <td>0</td>\n",
       "      <td>0</td>\n",
       "      <td>...</td>\n",
       "      <td>0</td>\n",
       "      <td>0</td>\n",
       "      <td>1</td>\n",
       "      <td>0</td>\n",
       "      <td>0</td>\n",
       "      <td>0</td>\n",
       "      <td>0</td>\n",
       "      <td>1</td>\n",
       "      <td>0</td>\n",
       "      <td>0</td>\n",
       "    </tr>\n",
       "    <tr>\n",
       "      <th>3</th>\n",
       "      <td>3</td>\n",
       "      <td>4</td>\n",
       "      <td>4</td>\n",
       "      <td>19.263014</td>\n",
       "      <td>0</td>\n",
       "      <td>0</td>\n",
       "      <td>0</td>\n",
       "      <td>0</td>\n",
       "      <td>0</td>\n",
       "      <td>0</td>\n",
       "      <td>...</td>\n",
       "      <td>0</td>\n",
       "      <td>0</td>\n",
       "      <td>0</td>\n",
       "      <td>0</td>\n",
       "      <td>0</td>\n",
       "      <td>1</td>\n",
       "      <td>0</td>\n",
       "      <td>1</td>\n",
       "      <td>0</td>\n",
       "      <td>0</td>\n",
       "    </tr>\n",
       "    <tr>\n",
       "      <th>4</th>\n",
       "      <td>3</td>\n",
       "      <td>4</td>\n",
       "      <td>3</td>\n",
       "      <td>18.975342</td>\n",
       "      <td>0</td>\n",
       "      <td>0</td>\n",
       "      <td>0</td>\n",
       "      <td>0</td>\n",
       "      <td>0</td>\n",
       "      <td>0</td>\n",
       "      <td>...</td>\n",
       "      <td>0</td>\n",
       "      <td>0</td>\n",
       "      <td>0</td>\n",
       "      <td>0</td>\n",
       "      <td>0</td>\n",
       "      <td>1</td>\n",
       "      <td>0</td>\n",
       "      <td>1</td>\n",
       "      <td>0</td>\n",
       "      <td>0</td>\n",
       "    </tr>\n",
       "    <tr>\n",
       "      <th>...</th>\n",
       "      <td>...</td>\n",
       "      <td>...</td>\n",
       "      <td>...</td>\n",
       "      <td>...</td>\n",
       "      <td>...</td>\n",
       "      <td>...</td>\n",
       "      <td>...</td>\n",
       "      <td>...</td>\n",
       "      <td>...</td>\n",
       "      <td>...</td>\n",
       "      <td>...</td>\n",
       "      <td>...</td>\n",
       "      <td>...</td>\n",
       "      <td>...</td>\n",
       "      <td>...</td>\n",
       "      <td>...</td>\n",
       "      <td>...</td>\n",
       "      <td>...</td>\n",
       "      <td>...</td>\n",
       "      <td>...</td>\n",
       "      <td>...</td>\n",
       "    </tr>\n",
       "    <tr>\n",
       "      <th>4995</th>\n",
       "      <td>3</td>\n",
       "      <td>4</td>\n",
       "      <td>3</td>\n",
       "      <td>0.917808</td>\n",
       "      <td>0</td>\n",
       "      <td>0</td>\n",
       "      <td>0</td>\n",
       "      <td>0</td>\n",
       "      <td>0</td>\n",
       "      <td>0</td>\n",
       "      <td>...</td>\n",
       "      <td>0</td>\n",
       "      <td>0</td>\n",
       "      <td>0</td>\n",
       "      <td>0</td>\n",
       "      <td>0</td>\n",
       "      <td>0</td>\n",
       "      <td>0</td>\n",
       "      <td>0</td>\n",
       "      <td>1</td>\n",
       "      <td>0</td>\n",
       "    </tr>\n",
       "    <tr>\n",
       "      <th>4996</th>\n",
       "      <td>3</td>\n",
       "      <td>3</td>\n",
       "      <td>4</td>\n",
       "      <td>0.189041</td>\n",
       "      <td>0</td>\n",
       "      <td>0</td>\n",
       "      <td>0</td>\n",
       "      <td>0</td>\n",
       "      <td>0</td>\n",
       "      <td>0</td>\n",
       "      <td>...</td>\n",
       "      <td>0</td>\n",
       "      <td>0</td>\n",
       "      <td>0</td>\n",
       "      <td>0</td>\n",
       "      <td>0</td>\n",
       "      <td>0</td>\n",
       "      <td>0</td>\n",
       "      <td>0</td>\n",
       "      <td>1</td>\n",
       "      <td>0</td>\n",
       "    </tr>\n",
       "    <tr>\n",
       "      <th>4997</th>\n",
       "      <td>3</td>\n",
       "      <td>3</td>\n",
       "      <td>4</td>\n",
       "      <td>3.235616</td>\n",
       "      <td>0</td>\n",
       "      <td>0</td>\n",
       "      <td>0</td>\n",
       "      <td>0</td>\n",
       "      <td>0</td>\n",
       "      <td>0</td>\n",
       "      <td>...</td>\n",
       "      <td>0</td>\n",
       "      <td>0</td>\n",
       "      <td>0</td>\n",
       "      <td>0</td>\n",
       "      <td>0</td>\n",
       "      <td>0</td>\n",
       "      <td>0</td>\n",
       "      <td>0</td>\n",
       "      <td>1</td>\n",
       "      <td>0</td>\n",
       "    </tr>\n",
       "    <tr>\n",
       "      <th>4998</th>\n",
       "      <td>2</td>\n",
       "      <td>2</td>\n",
       "      <td>3</td>\n",
       "      <td>2.252055</td>\n",
       "      <td>0</td>\n",
       "      <td>0</td>\n",
       "      <td>0</td>\n",
       "      <td>0</td>\n",
       "      <td>0</td>\n",
       "      <td>0</td>\n",
       "      <td>...</td>\n",
       "      <td>0</td>\n",
       "      <td>0</td>\n",
       "      <td>0</td>\n",
       "      <td>0</td>\n",
       "      <td>0</td>\n",
       "      <td>0</td>\n",
       "      <td>0</td>\n",
       "      <td>0</td>\n",
       "      <td>1</td>\n",
       "      <td>0</td>\n",
       "    </tr>\n",
       "    <tr>\n",
       "      <th>4999</th>\n",
       "      <td>3</td>\n",
       "      <td>3</td>\n",
       "      <td>3</td>\n",
       "      <td>2.736986</td>\n",
       "      <td>0</td>\n",
       "      <td>0</td>\n",
       "      <td>0</td>\n",
       "      <td>0</td>\n",
       "      <td>0</td>\n",
       "      <td>0</td>\n",
       "      <td>...</td>\n",
       "      <td>0</td>\n",
       "      <td>0</td>\n",
       "      <td>0</td>\n",
       "      <td>0</td>\n",
       "      <td>0</td>\n",
       "      <td>0</td>\n",
       "      <td>0</td>\n",
       "      <td>0</td>\n",
       "      <td>1</td>\n",
       "      <td>0</td>\n",
       "    </tr>\n",
       "  </tbody>\n",
       "</table>\n",
       "<p>5000 rows × 396 columns</p>\n",
       "</div>"
      ],
      "text/plain": [
       "      education  job_level  performance_rating  years_at_company  \\\n",
       "0             3          4                   4          8.863014   \n",
       "1             3          4                   4         19.761644   \n",
       "2             3          4                   3          4.501370   \n",
       "3             3          4                   4         19.263014   \n",
       "4             3          4                   3         18.975342   \n",
       "...         ...        ...                 ...               ...   \n",
       "4995          3          4                   3          0.917808   \n",
       "4996          3          3                   4          0.189041   \n",
       "4997          3          3                   4          3.235616   \n",
       "4998          2          2                   3          2.252055   \n",
       "4999          3          3                   3          2.736986   \n",
       "\n",
       "      department_AIC  department_AMG  department_CEP  department_DES  \\\n",
       "0                  0               0               0               0   \n",
       "1                  0               0               0               0   \n",
       "2                  0               0               0               0   \n",
       "3                  0               0               0               0   \n",
       "4                  0               0               0               0   \n",
       "...              ...             ...             ...             ...   \n",
       "4995               0               0               0               0   \n",
       "4996               0               0               0               0   \n",
       "4997               0               0               0               0   \n",
       "4998               0               0               0               0   \n",
       "4999               0               0               0               0   \n",
       "\n",
       "      department_DPS  department_DXG  ...  job_category_Manager  \\\n",
       "0                  0               0  ...                     0   \n",
       "1                  0               0  ...                     0   \n",
       "2                  0               0  ...                     0   \n",
       "3                  0               0  ...                     0   \n",
       "4                  0               0  ...                     0   \n",
       "...              ...             ...  ...                   ...   \n",
       "4995               0               0  ...                     0   \n",
       "4996               0               0  ...                     0   \n",
       "4997               0               0  ...                     0   \n",
       "4998               0               0  ...                     0   \n",
       "4999               0               0  ...                     0   \n",
       "\n",
       "      job_category_Others  job_category_PM  job_category_Product Engineering  \\\n",
       "0                       0                0                                 0   \n",
       "1                       0                0                                 0   \n",
       "2                       0                1                                 0   \n",
       "3                       0                0                                 0   \n",
       "4                       0                0                                 0   \n",
       "...                   ...              ...                               ...   \n",
       "4995                    0                0                                 0   \n",
       "4996                    0                0                                 0   \n",
       "4997                    0                0                                 0   \n",
       "4998                    0                0                                 0   \n",
       "4999                    0                0                                 0   \n",
       "\n",
       "      job_category_QA  job_category_Tester  marital_status_Divorced  \\\n",
       "0                   0                    0                        0   \n",
       "1                   0                    1                        0   \n",
       "2                   0                    0                        0   \n",
       "3                   0                    1                        0   \n",
       "4                   0                    1                        0   \n",
       "...               ...                  ...                      ...   \n",
       "4995                0                    0                        0   \n",
       "4996                0                    0                        0   \n",
       "4997                0                    0                        0   \n",
       "4998                0                    0                        0   \n",
       "4999                0                    0                        0   \n",
       "\n",
       "      marital_status_Married  marital_status_Single  marital_status_Unknown  \n",
       "0                          1                      0                       0  \n",
       "1                          1                      0                       0  \n",
       "2                          1                      0                       0  \n",
       "3                          1                      0                       0  \n",
       "4                          1                      0                       0  \n",
       "...                      ...                    ...                     ...  \n",
       "4995                       0                      1                       0  \n",
       "4996                       0                      1                       0  \n",
       "4997                       0                      1                       0  \n",
       "4998                       0                      1                       0  \n",
       "4999                       0                      1                       0  \n",
       "\n",
       "[5000 rows x 396 columns]"
      ]
     },
     "execution_count": 477,
     "metadata": {},
     "output_type": "execute_result"
    }
   ],
   "source": [
    "X_df = cleaned_df.iloc[:,:-1]\n",
    "X_df"
   ]
  },
  {
   "cell_type": "code",
   "execution_count": 478,
   "metadata": {},
   "outputs": [
    {
     "data": {
      "text/plain": [
       "array([[3., 3., 3., ..., 3., 2., 3.],\n",
       "       [4., 4., 4., ..., 3., 2., 3.],\n",
       "       [4., 4., 3., ..., 4., 3., 3.],\n",
       "       ...,\n",
       "       [1., 1., 1., ..., 0., 0., 0.],\n",
       "       [0., 0., 0., ..., 1., 1., 1.],\n",
       "       [0., 0., 0., ..., 0., 0., 0.]])"
      ]
     },
     "execution_count": 478,
     "metadata": {},
     "output_type": "execute_result"
    }
   ],
   "source": [
    "X = np.array(X_df).T\n",
    "X"
   ]
  },
  {
   "cell_type": "code",
   "execution_count": 479,
   "metadata": {},
   "outputs": [
    {
     "data": {
      "text/plain": [
       "(396, 5000)"
      ]
     },
     "execution_count": 479,
     "metadata": {},
     "output_type": "execute_result"
    }
   ],
   "source": [
    "X.shape"
   ]
  },
  {
   "cell_type": "code",
   "execution_count": 480,
   "metadata": {},
   "outputs": [
    {
     "data": {
      "text/plain": [
       "0       0\n",
       "1       0\n",
       "2       0\n",
       "3       0\n",
       "4       0\n",
       "       ..\n",
       "4995    0\n",
       "4996    0\n",
       "4997    0\n",
       "4998    1\n",
       "4999    1\n",
       "Name: attrition, Length: 5000, dtype: int64"
      ]
     },
     "execution_count": 480,
     "metadata": {},
     "output_type": "execute_result"
    }
   ],
   "source": [
    "y_df = cleaned_df.iloc[:,-1]\n",
    "y_df"
   ]
  },
  {
   "cell_type": "code",
   "execution_count": 481,
   "metadata": {},
   "outputs": [
    {
     "data": {
      "text/plain": [
       "array([[0],\n",
       "       [0],\n",
       "       [0],\n",
       "       ...,\n",
       "       [0],\n",
       "       [1],\n",
       "       [1]])"
      ]
     },
     "execution_count": 481,
     "metadata": {},
     "output_type": "execute_result"
    }
   ],
   "source": [
    "y = np.array(y_df).reshape(-1, 1)\n",
    "y"
   ]
  },
  {
   "cell_type": "code",
   "execution_count": 482,
   "metadata": {},
   "outputs": [
    {
     "data": {
      "text/plain": [
       "(5000, 1)"
      ]
     },
     "execution_count": 482,
     "metadata": {},
     "output_type": "execute_result"
    }
   ],
   "source": [
    "y.shape"
   ]
  },
  {
   "cell_type": "markdown",
   "metadata": {},
   "source": [
    "### 3.4 Build Xbar (X and bias)"
   ]
  },
  {
   "cell_type": "code",
   "execution_count": 483,
   "metadata": {},
   "outputs": [
    {
     "data": {
      "text/plain": [
       "array([[1., 1., 1., ..., 1., 1., 1.],\n",
       "       [3., 3., 3., ..., 3., 2., 3.],\n",
       "       [4., 4., 4., ..., 3., 2., 3.],\n",
       "       ...,\n",
       "       [1., 1., 1., ..., 0., 0., 0.],\n",
       "       [0., 0., 0., ..., 1., 1., 1.],\n",
       "       [0., 0., 0., ..., 0., 0., 0.]])"
      ]
     },
     "execution_count": 483,
     "metadata": {},
     "output_type": "execute_result"
    }
   ],
   "source": [
    "one = np.ones((1, X.shape[1]))\n",
    "Xbar = np.concatenate((one, X), axis=0)\n",
    "Xbar"
   ]
  },
  {
   "cell_type": "code",
   "execution_count": 484,
   "metadata": {},
   "outputs": [
    {
     "data": {
      "text/plain": [
       "(397, 5000)"
      ]
     },
     "execution_count": 484,
     "metadata": {},
     "output_type": "execute_result"
    }
   ],
   "source": [
    "Xbar.shape"
   ]
  },
  {
   "cell_type": "markdown",
   "metadata": {
    "vscode": {
     "languageId": "plaintext"
    }
   },
   "source": [
    "## 4. Build the models"
   ]
  },
  {
   "cell_type": "markdown",
   "metadata": {},
   "source": [
    "### Requirements\n",
    "- Neccessary features\n",
    "- Best link functions"
   ]
  },
  {
   "cell_type": "markdown",
   "metadata": {},
   "source": [
    "### 4.1. The simplest model"
   ]
  },
  {
   "cell_type": "code",
   "execution_count": 485,
   "metadata": {},
   "outputs": [],
   "source": [
    "# y = f(w^Tx)\n",
    "\n",
    "# f(s) = 1 / (1 + e^-s)     (logit link function)"
   ]
  },
  {
   "cell_type": "code",
   "execution_count": 486,
   "metadata": {},
   "outputs": [],
   "source": [
    "def sigmoid(x):\n",
    "    return 1 / (1 + np.exp(-x))"
   ]
  },
  {
   "cell_type": "markdown",
   "metadata": {
    "vscode": {
     "languageId": "plaintext"
    }
   },
   "source": [
    "## 5. Algorithms optimization"
   ]
  },
  {
   "cell_type": "markdown",
   "metadata": {},
   "source": [
    "### 5.1. Loss function selection"
   ]
  },
  {
   "cell_type": "code",
   "execution_count": 487,
   "metadata": {},
   "outputs": [
    {
     "data": {
      "text/plain": [
       "'\\nz = b + w * x\\n\\ny^ = 1 / (1 + e^-z) (sigmoid link function)\\n\\ncost(y^, y) = 1/N * - (y * log(y^) + (1 - y) * log(1 - y^))\\n\\nConclusion: cost(y^, y) = 1/N * - (y^T * log(y^) + (1 - y)^T * log(1 - y^))\\n\\n'"
      ]
     },
     "execution_count": 487,
     "metadata": {},
     "output_type": "execute_result"
    }
   ],
   "source": [
    "\"\"\"\n",
    "z = b + w * x\n",
    "\n",
    "y^ = 1 / (1 + e^-z) (sigmoid link function)\n",
    "\n",
    "cost(y^, y) = 1/N * - (y * log(y^) + (1 - y) * log(1 - y^))\n",
    "\n",
    "Conclusion: cost(y^, y) = 1/N * - (y^T * log(y^) + (1 - y)^T * log(1 - y^))\n",
    "\n",
    "\"\"\""
   ]
  },
  {
   "cell_type": "code",
   "execution_count": 488,
   "metadata": {},
   "outputs": [],
   "source": [
    "def cost(w: np.ndarray, Xbar: np.ndarray, y: np.ndarray):\n",
    "    # w is a vector that includes the bias\n",
    "    w = w.reshape(-1, 1)\n",
    "    N = Xbar.shape[1]\n",
    "    y_hat = sigmoid(Xbar.T.dot(w))\n",
    "    epsilon = 1e-10\n",
    "    y_hat = np.clip(y_hat, epsilon, 1 - epsilon)  # Avoid log(0)\n",
    "    return 1 / N * -(y.T.dot(np.log(y_hat)) + (1 - y).T.dot(np.log(1 - y_hat)))"
   ]
  },
  {
   "cell_type": "code",
   "execution_count": 489,
   "metadata": {},
   "outputs": [
    {
     "data": {
      "text/plain": [
       "'\\ncost(y^, y) = 1/N * - (y * log(y^) + (y - 1) * log(1 - y^))\\n\\nLet A = y * log(y^)\\n\\nLet B = (y - 1) * log(1 - y^)\\n\\n\\nFind dA/dw\\n\\ndA/dw \\n= d(y * log(y^)) / dw\\n= y * 1 / y^ * (dy^/dw)\\n= y * 1 / y^ * (dy^/dz * dz/dw)\\n= y * 1 / y^ * ((1 - y^) * y^ * x)\\n= y * (1 - y^) * x\\n\\n\\nFind dB/dw\\n\\ndB/dw\\n= d((1 - y) * log(1 - y^)) / dw\\n= (1 - y) / (1 - y^) * (dy^/dw)\\n= (1 - y) / (1 - y^) * (dy^/dz * dz/dw)\\n= (1 - y) / (1 - y^) * ((1 - y^) * y^ * x)\\n= (1 - y) * y^ * x\\n\\n=> gradient(y^, y)\\n= dA/dw + dB/dw\\n= y * (1 - y^) * x + (1 - y) * y^ * x\\n= x * (y^ - y)\\n\\nConclusion: gradient(y^, y) = x^T * (y^ - y)\\n\\n'"
      ]
     },
     "execution_count": 489,
     "metadata": {},
     "output_type": "execute_result"
    }
   ],
   "source": [
    "\"\"\"\n",
    "cost(y^, y) = 1/N * - (y * log(y^) + (y - 1) * log(1 - y^))\n",
    "\n",
    "Let A = y * log(y^)\n",
    "\n",
    "Let B = (y - 1) * log(1 - y^)\n",
    "\n",
    "\n",
    "Find dA/dw\n",
    "\n",
    "dA/dw \n",
    "= d(y * log(y^)) / dw\n",
    "= y * 1 / y^ * (dy^/dw)\n",
    "= y * 1 / y^ * (dy^/dz * dz/dw)\n",
    "= y * 1 / y^ * ((1 - y^) * y^ * x)\n",
    "= y * (1 - y^) * x\n",
    "\n",
    "\n",
    "Find dB/dw\n",
    "\n",
    "dB/dw\n",
    "= d((1 - y) * log(1 - y^)) / dw\n",
    "= (1 - y) / (1 - y^) * (dy^/dw)\n",
    "= (1 - y) / (1 - y^) * (dy^/dz * dz/dw)\n",
    "= (1 - y) / (1 - y^) * ((1 - y^) * y^ * x)\n",
    "= (1 - y) * y^ * x\n",
    "\n",
    "=> gradient(y^, y)\n",
    "= dA/dw + dB/dw\n",
    "= y * (1 - y^) * x + (1 - y) * y^ * x\n",
    "= x * (y^ - y)\n",
    "\n",
    "Conclusion: gradient(y^, y) = x^T * (y^ - y)\n",
    "\n",
    "\"\"\""
   ]
  },
  {
   "cell_type": "code",
   "execution_count": 490,
   "metadata": {},
   "outputs": [],
   "source": [
    "def grad(w: np.ndarray, Xbar: np.ndarray, y: np.ndarray):\n",
    "    # w is a vector that includes the bias\n",
    "    w = w.reshape(-1, 1)\n",
    "    N = Xbar.shape[1]\n",
    "    y_hat = sigmoid(Xbar.T.dot(w))\n",
    "    epsilon = 1e-10\n",
    "    y_hat = np.clip(y_hat, epsilon, 1 - epsilon)  # Avoid log(0)\n",
    "    return Xbar.dot(y_hat - y) / N"
   ]
  },
  {
   "cell_type": "markdown",
   "metadata": {},
   "source": [
    "### 5.2. Double check gradient using numerical gradient"
   ]
  },
  {
   "cell_type": "code",
   "execution_count": 491,
   "metadata": {},
   "outputs": [],
   "source": [
    "def check_grad(fn, gr, X, Xbar: np.ndarray, y: np.ndarray):\n",
    "    # convert X to an 1d array, later we'll need only one for loop\n",
    "    X_flat = X.ravel()\n",
    "    shape_X = X.shape  # original shape of X\n",
    "    num_grad = np.zeros_like(X)  # numerical grad, shape = shape of X\n",
    "    grad_flat = np.zeros_like(X_flat)  # 1d version of grad\n",
    "    eps = 1e-10  # a small number, 1e-10 -> 1e-6 is often good\n",
    "    numElems = X_flat.shape[0]  # number of elements in X\n",
    "    # calculate numerical gradient\n",
    "    for i in range(numElems):  # iterate over all elements of X\n",
    "        Xp_flat = X_flat.copy()\n",
    "        Xn_flat = X_flat.copy()\n",
    "        Xp_flat[i] += eps\n",
    "        Xn_flat[i] -= eps\n",
    "        Xp = Xp_flat.reshape(shape_X)\n",
    "        Xn = Xn_flat.reshape(shape_X)\n",
    "        fp_ = fn(Xp, Xbar, y)\n",
    "        fn_ = fn(Xn, Xbar, y)\n",
    "        grad_flat[i] = (fp_.item() - fn_.item()) / (2 * eps)\n",
    "\n",
    "    num_grad = grad_flat.reshape(shape_X)\n",
    "\n",
    "    diff = np.linalg.norm(num_grad.reshape(-1, 1) - gr(X, Xbar, y).reshape(-1, 1))\n",
    "    print(\"Difference between two methods should be small:\", diff)\n",
    "\n",
    "\n",
    "# check_grad(cost, grad, np.array([0] * Xbar.shape[0]), Xbar, y)"
   ]
  },
  {
   "cell_type": "code",
   "execution_count": 492,
   "metadata": {},
   "outputs": [
    {
     "name": "stdout",
     "output_type": "stream",
     "text": [
      "Difference between two methods should be small: 0.17829932397464082\n"
     ]
    }
   ],
   "source": [
    "# check_grad(cost, grad, np.array([0.1] * Xbar.shape[0]), Xbar, y)\n",
    "\n",
    "check_grad(cost, grad, np.random.randn(Xbar.shape[0]), Xbar, y)"
   ]
  },
  {
   "cell_type": "markdown",
   "metadata": {},
   "source": [
    "### 5.3. Core functions"
   ]
  },
  {
   "cell_type": "code",
   "execution_count": 493,
   "metadata": {},
   "outputs": [],
   "source": [
    "class AlgorithmType(Enum):\n",
    "    \"\"\"Enumeration for different algorithm types with optional parameters.\"\"\"\n",
    "\n",
    "    # INCLUDED ADDITIONAL PARAMETERS\n",
    "\n",
    "    GRADIENT_DESCENT_FIX_LEARNING_RATE = {}\n",
    "    \"\"\"Gradient Descent with a fixed learning rate. No additional parameters.\"\"\"\n",
    "\n",
    "    GRADIENT_DESCENT_BACKTRACKING_LEARNING_RATE = {\"alpha\": 1 / 2, \"beta\": 1 / 4}\n",
    "    \"\"\"Gradient Descent with backtracking line search.\n",
    "    \n",
    "    Parameters:\n",
    "    alpha: The fraction of the decrease in the function value. Range: (0.0, 1.0). Default: 0.5\n",
    "    beta: The factor by which the step size is multiplied. Range: (0, 0.5]. Default: 0.25\n",
    "    \"\"\"\n",
    "\n",
    "    STOCHASTIC_GRADIENT_DESCENT_FIX_LEARNING_RATE = {\n",
    "        \"batch_size\": 1,\n",
    "        \"rule\": 0,\n",
    "        \"random_seed\": 10,\n",
    "    }\n",
    "    \"\"\"Stochastic Gradient Descent with a fixed learning rate.\n",
    "\n",
    "    Parameters:\n",
    "        batch_size: number of data points each training. Range: [0, N]. Default: 1\n",
    "        rule: 0 is Randomized rule, 1 is Cyclic rule. Range: {0, 1}. Default: 0\n",
    "        random_seed: Random number generator seed. Default: 10\n",
    "    \"\"\"\n",
    "\n",
    "\n",
    "# GRADIENT_DESCENT_FIX_LEARNING_RATE\n",
    "def gradient_descent_fix_learning_rate(\n",
    "    Xbar: np.ndarray,\n",
    "    y: np.ndarray,\n",
    "    grad,\n",
    "    w0: np.ndarray,\n",
    "    learning_rate: np.float64,\n",
    "    max_epochs=200,\n",
    "    eps=1e-6,\n",
    "):\n",
    "    # w0 is a vector that included the bias\n",
    "    w0 = w0.reshape(-1, 1)\n",
    "    w = [w0]\n",
    "    for epoch in range(max_epochs):\n",
    "        w_new = w[-1] - learning_rate * grad(w[-1], Xbar, y)\n",
    "        if np.linalg.norm(grad(w_new, Xbar, y)) / np.array(w0).size < eps:\n",
    "            break\n",
    "        w.append(w_new)\n",
    "\n",
    "    return w\n",
    "\n",
    "\n",
    "# GRADIENT_DESCENT_BACKTRACKING_LEARNING_RATE\n",
    "def gradient_descent_backtracking_learning_rate(\n",
    "    Xbar: np.ndarray,\n",
    "    y: np.ndarray,\n",
    "    grad,\n",
    "    w0: np.ndarray,\n",
    "    initial_learning_rate: np.float64,\n",
    "    max_epochs=200,\n",
    "    eps=1e-6,\n",
    "    additional_parameters=AlgorithmType.GRADIENT_DESCENT_BACKTRACKING_LEARNING_RATE.value,\n",
    "):\n",
    "    # w0 is a vector that included the bias\n",
    "    w0 = w0.reshape(-1, 1)\n",
    "    w = [w0]\n",
    "    alpha = additional_parameters[\"alpha\"]\n",
    "    beta = additional_parameters[\"beta\"]\n",
    "\n",
    "    for epoch in range(max_epochs):\n",
    "        # At each iteration, start with lr = lr_init, and while\n",
    "        #     f(x - lr * grad(x)) > f(x) - alpha * lr * ||f(x)||_2^2 (squared of 2-norm)\n",
    "        #           => t = beta * t\n",
    "        # else\n",
    "        # perform gradient descent update\n",
    "        #           w_new = last_w - lr * grad(x)\n",
    "\n",
    "        last_w = w[-1]\n",
    "        learning_rate = initial_learning_rate\n",
    "        left_hand_side = cost(last_w - learning_rate * grad(last_w, Xbar, y), Xbar, y)\n",
    "        right_hand_side = cost(\n",
    "            last_w, Xbar, y\n",
    "        ) - alpha * learning_rate * np.linalg.norm(grad(last_w, Xbar, y))\n",
    "\n",
    "        while left_hand_side > right_hand_side:\n",
    "            # Update learning rate\n",
    "            learning_rate = beta * learning_rate\n",
    "\n",
    "            left_hand_side = cost(\n",
    "                last_w - learning_rate * grad(last_w, Xbar, y), Xbar, y\n",
    "            )\n",
    "            right_hand_side = cost(\n",
    "                last_w, Xbar, y\n",
    "            ) - alpha * learning_rate * np.linalg.norm(grad(last_w, Xbar, y))\n",
    "\n",
    "        w_new = w[-1] - learning_rate * grad(w[-1], Xbar, y)\n",
    "        if np.linalg.norm(grad(w_new, Xbar, y)) / np.array(w0).size < eps:\n",
    "            break\n",
    "        w.append(w_new)\n",
    "\n",
    "    return w\n",
    "\n",
    "\n",
    "# STOCHASTIC_GRADIENT_DESCENT_FIX_LEARNING_RATE\n",
    "def stochastic_gradient_descent_fix_learning_rate(\n",
    "    Xbar: np.ndarray,\n",
    "    y: np.ndarray,\n",
    "    grad,\n",
    "    w0: np.ndarray,\n",
    "    initial_learning_rate: np.float64,\n",
    "    max_epochs=200,\n",
    "    eps=1e-6,\n",
    "    additional_parameters=AlgorithmType.STOCHASTIC_GRADIENT_DESCENT_FIX_LEARNING_RATE.value,\n",
    "):\n",
    "    batch_size = (\n",
    "        additional_parameters[\"batch_size\"]\n",
    "        if additional_parameters[\"batch_size\"] > 0\n",
    "        else 1\n",
    "    )\n",
    "    rule = (\n",
    "        additional_parameters[\"rule\"] if additional_parameters[\"rule\"] in [0, 1] else 0\n",
    "    )\n",
    "    random_seed = additional_parameters[\"random_seed\"]\n",
    "\n",
    "    random.seed(random_seed)\n",
    "\n",
    "    # Randomized rule\n",
    "    if rule == 0:\n",
    "        # w0 is a vector that included the bias\n",
    "        w0 = w0.reshape(-1, 1)\n",
    "        w = [w0]\n",
    "        w_each_epoch = [w0]\n",
    "        for epoch in range(max_epochs):\n",
    "            all_indexes = list(range(Xbar.shape[1]))\n",
    "            selected_indexes = []\n",
    "            while len(all_indexes) > 0:\n",
    "                if batch_size < len(all_indexes):\n",
    "                    selected_indexes = random.sample(all_indexes, batch_size)\n",
    "                else:\n",
    "                    selected_indexes = all_indexes.copy()\n",
    "\n",
    "                for index in selected_indexes:\n",
    "                    all_indexes.remove(index)\n",
    "\n",
    "                Xbar_batch = Xbar[:, selected_indexes]\n",
    "                y_batch = y[selected_indexes]\n",
    "\n",
    "                w_new = w[-1] - initial_learning_rate * grad(w[-1], Xbar_batch, y_batch)\n",
    "                w.append(w_new)\n",
    "\n",
    "            w_each_epoch.append(w[-1])\n",
    "\n",
    "            if (\n",
    "                np.linalg.norm(grad(w_each_epoch[-1], Xbar, y)) / np.array(w0).size\n",
    "                < eps\n",
    "            ):\n",
    "                break\n",
    "\n",
    "        return w_each_epoch\n",
    "\n",
    "    # Cyclic rule\n",
    "    elif rule == 1:\n",
    "        # w0 is a vector that included the bias\n",
    "        w0 = w0.reshape(-1, 1)\n",
    "        w = [w0]\n",
    "        w_each_epoch = [w0]\n",
    "        for epoch in range(max_epochs):\n",
    "            all_indexes = list(range(Xbar.shape[1]))\n",
    "            selected_indexes = []\n",
    "            learning_rate = initial_learning_rate\n",
    "            k = 0\n",
    "            while len(all_indexes) > 0:\n",
    "                k += 1\n",
    "                if batch_size < len(all_indexes):\n",
    "                    selected_indexes = all_indexes[:batch_size]\n",
    "                else:\n",
    "                    selected_indexes = all_indexes.copy()\n",
    "\n",
    "                for index in selected_indexes:\n",
    "                    all_indexes.remove(index)\n",
    "\n",
    "                Xbar_batch = Xbar[:, selected_indexes]\n",
    "                y_batch = y[selected_indexes]\n",
    "\n",
    "                w_new = w[-1] - learning_rate / k * grad(w[-1], Xbar_batch, y_batch)\n",
    "                w.append(w_new)\n",
    "\n",
    "            w_each_epoch.append(w[-1])\n",
    "\n",
    "            if (\n",
    "                np.linalg.norm(grad(w_each_epoch[-1], Xbar, y)) / np.array(w0).size\n",
    "                < eps\n",
    "            ):\n",
    "                break\n",
    "\n",
    "        return w_each_epoch\n",
    "\n",
    "    # Invalid rule\n",
    "    else:\n",
    "        raise ValueError(\"'rule' must be 0 or 1.\")\n",
    "\n",
    "\n",
    "def calculate_loss_value(cost, w1: list, Xbar: np.ndarray, y: np.ndarray):\n",
    "    loss_value = []\n",
    "    for index in range(len(w1)):\n",
    "        loss_value.append(cost(w1[index], Xbar, y).item())\n",
    "\n",
    "    return loss_value\n",
    "\n",
    "\n",
    "def plot_loss_function(\n",
    "    loss_value_array: list,\n",
    "    initial_learning_rate: np.ndarray,\n",
    "    algorithm_name: str,\n",
    "    marker=\"*\",\n",
    "):\n",
    "    plt.plot(range(len(loss_value_array)), loss_value_array, marker=marker)\n",
    "    plt.xlabel(\"Epoch\")\n",
    "    plt.ylabel(\"Loss value\")\n",
    "    plt.title(\n",
    "        f\"{algorithm_name} | nepochs: {len(loss_value_array)} | initial learning rate: {initial_learning_rate}\"\n",
    "    )\n",
    "    plt.show()\n",
    "\n",
    "\n",
    "def one_for_all(\n",
    "    algorithm_type: AlgorithmType,\n",
    "    Xbar: np.ndarray,\n",
    "    y: np.ndarray,\n",
    "    cost,\n",
    "    grad,\n",
    "    initial_w: np.ndarray,\n",
    "    initial_learning_rate: np.ndarray,\n",
    "    algorithm_name: str,\n",
    "    max_epochs=1000,\n",
    "    eps=1e-6,\n",
    "    marker=\"*\",\n",
    "    additional_parameters=None,\n",
    "):\n",
    "    match algorithm_type:\n",
    "        case AlgorithmType.GRADIENT_DESCENT_FIX_LEARNING_RATE:\n",
    "            w1 = gradient_descent_fix_learning_rate(\n",
    "                Xbar, y, grad, initial_w, initial_learning_rate, max_epochs, eps\n",
    "            )\n",
    "        case AlgorithmType.GRADIENT_DESCENT_BACKTRACKING_LEARNING_RATE:\n",
    "            w1 = gradient_descent_backtracking_learning_rate(\n",
    "                Xbar,\n",
    "                y,\n",
    "                grad,\n",
    "                initial_w,\n",
    "                initial_learning_rate,\n",
    "                max_epochs,\n",
    "                eps,\n",
    "                additional_parameters,\n",
    "            )\n",
    "\n",
    "        case AlgorithmType.STOCHASTIC_GRADIENT_DESCENT_FIX_LEARNING_RATE:\n",
    "            w1 = stochastic_gradient_descent_fix_learning_rate(\n",
    "                Xbar,\n",
    "                y,\n",
    "                grad,\n",
    "                initial_w,\n",
    "                initial_learning_rate,\n",
    "                max_epochs,\n",
    "                eps,\n",
    "                additional_parameters,\n",
    "            )\n",
    "\n",
    "    loss_value_array = calculate_loss_value(cost, w1, Xbar, y)\n",
    "    print(f\"{algorithm_name} | Best value: {loss_value_array[-1]:.6f}\")\n",
    "    print(additional_parameters)\n",
    "    plot_loss_function(loss_value_array, initial_learning_rate, algorithm_name, marker)\n",
    "\n",
    "    return (w1[-1], loss_value_array[-1])"
   ]
  },
  {
   "cell_type": "markdown",
   "metadata": {},
   "source": [
    "### 5.4. GRADIENT_DESCENT_FIX_LEARNING_RATE"
   ]
  },
  {
   "cell_type": "code",
   "execution_count": 494,
   "metadata": {},
   "outputs": [
    {
     "name": "stdout",
     "output_type": "stream",
     "text": [
      "GRADIENT_DESCENT_FIX_LEARNING_RATE | Best value: 0.401695\n",
      "None\n"
     ]
    },
    {
     "data": {
      "image/png": "[encoded data removed]",
      "text/plain": [
       "<Figure size 640x480 with 1 Axes>"
      ]
     },
     "metadata": {},
     "output_type": "display_data"
    }
   ],
   "source": [
    "ALGORITHM_TYPE = AlgorithmType.GRADIENT_DESCENT_FIX_LEARNING_RATE\n",
    "INITIAL_W = np.zeros((Xbar.shape[0], 1))\n",
    "INITIAL_LEARNING_RATE = 0.01\n",
    "MAX_EPOCHS = 200\n",
    "EPS = 1e-6\n",
    "\n",
    "\n",
    "# ADDITIONAL PARAMETERS\n",
    "ALGORITHM_TYPE.value\n",
    "\n",
    "\n",
    "solution, best_loss_value = one_for_all(\n",
    "    algorithm_type=ALGORITHM_TYPE,\n",
    "    Xbar=Xbar,\n",
    "    y=y,\n",
    "    cost=cost,\n",
    "    grad=grad,\n",
    "    initial_w=INITIAL_W,\n",
    "    initial_learning_rate=INITIAL_LEARNING_RATE,\n",
    "    algorithm_name=ALGORITHM_TYPE.name,\n",
    "    max_epochs=MAX_EPOCHS,\n",
    "    eps=EPS,\n",
    "    marker=\"*\",\n",
    ")"
   ]
  },
  {
   "cell_type": "markdown",
   "metadata": {},
   "source": [
    "### 5.5. GRADIENT_DESCENT_BACKTRACKING_LEARNING_RATE"
   ]
  },
  {
   "cell_type": "code",
   "execution_count": 495,
   "metadata": {},
   "outputs": [
    {
     "name": "stdout",
     "output_type": "stream",
     "text": [
      "GRADIENT_DESCENT_BACKTRACKING_LEARNING_RATE | Best value: 0.402214\n",
      "{'alpha': 0.1, 'beta': 0.8}\n"
     ]
    },
    {
     "data": {
      "image/png": "[encoded data removed]",
      "text/plain": [
       "<Figure size 640x480 with 1 Axes>"
      ]
     },
     "metadata": {},
     "output_type": "display_data"
    }
   ],
   "source": [
    "ALGORITHM_TYPE = AlgorithmType.GRADIENT_DESCENT_BACKTRACKING_LEARNING_RATE\n",
    "INITIAL_W = np.zeros((Xbar.shape[0], 1))\n",
    "INITIAL_LEARNING_RATE = 1\n",
    "MAX_EPOCHS = 200\n",
    "EPS = 1e-6\n",
    "\n",
    "ALPHA = 0.1\n",
    "BETA = 0.8\n",
    "\n",
    "\n",
    "# ADDITIONAL PARAMETERS\n",
    "ADDITIONAL_PARAMETERS = ALGORITHM_TYPE.value\n",
    "\n",
    "ADDITIONAL_PARAMETERS[\"alpha\"] = ALPHA\n",
    "ADDITIONAL_PARAMETERS[\"beta\"] = BETA\n",
    "\n",
    "\n",
    "solution, best_loss_value = one_for_all(\n",
    "    algorithm_type=ALGORITHM_TYPE,\n",
    "    Xbar=Xbar,\n",
    "    y=y,\n",
    "    cost=cost,\n",
    "    grad=grad,\n",
    "    initial_w=INITIAL_W,\n",
    "    initial_learning_rate=INITIAL_LEARNING_RATE,\n",
    "    algorithm_name=ALGORITHM_TYPE.name,\n",
    "    max_epochs=MAX_EPOCHS,\n",
    "    eps=EPS,\n",
    "    marker=\"*\",\n",
    "    additional_parameters=ADDITIONAL_PARAMETERS,\n",
    ")"
   ]
  },
  {
   "cell_type": "markdown",
   "metadata": {},
   "source": [
    "### 5.6. STOCHASTIC_GRADIENT_DESCENT_FIX_LEARNING_RATE - randomized"
   ]
  },
  {
   "cell_type": "code",
   "execution_count": 496,
   "metadata": {},
   "outputs": [
    {
     "name": "stdout",
     "output_type": "stream",
     "text": [
      "AlgorithmType.STOCHASTIC_GRADIENT_DESCENT_FIX_LEARNING_RATE | Best value: 0.059886\n",
      "{'batch_size': 1, 'rule': 0, 'random_seed': 10}\n"
     ]
    },
    {
     "data": {
      "image/png": "[encoded data removed]",
      "text/plain": [
       "<Figure size 640x480 with 1 Axes>"
      ]
     },
     "metadata": {},
     "output_type": "display_data"
    }
   ],
   "source": [
    "ALGORITHM_TYPE = AlgorithmType.STOCHASTIC_GRADIENT_DESCENT_FIX_LEARNING_RATE\n",
    "INITIAL_W = np.zeros((Xbar.shape[0], 1))\n",
    "INITIAL_LEARNING_RATE = 0.01\n",
    "MAX_EPOCHS = 500\n",
    "EPS = 1e-6\n",
    "\n",
    "BATCH_SIZE = 1\n",
    "RULE = 0\n",
    "RANDOM_SEED = 10\n",
    "\n",
    "\n",
    "# ADDITIONAL PARAMETERS\n",
    "ADDITIONAL_PARAMETERS = ALGORITHM_TYPE.value\n",
    "\n",
    "ADDITIONAL_PARAMETERS[\"batch_size\"] = BATCH_SIZE\n",
    "ADDITIONAL_PARAMETERS[\"rule\"] = RULE\n",
    "ADDITIONAL_PARAMETERS[\"random_seed\"] = RANDOM_SEED\n",
    "\n",
    "\n",
    "solution, best_loss_value = one_for_all(\n",
    "    algorithm_type=ALGORITHM_TYPE,\n",
    "    Xbar=Xbar,\n",
    "    y=y,\n",
    "    cost=cost,\n",
    "    grad=grad,\n",
    "    initial_w=INITIAL_W,\n",
    "    initial_learning_rate=INITIAL_LEARNING_RATE,\n",
    "    algorithm_name=ALGORITHM_TYPE,\n",
    "    max_epochs=MAX_EPOCHS,\n",
    "    eps=EPS,\n",
    "    marker=\"*\",\n",
    "    additional_parameters=ADDITIONAL_PARAMETERS,\n",
    ")"
   ]
  },
  {
   "cell_type": "markdown",
   "metadata": {},
   "source": [
    "### 5.7. STOCHASTIC_GRADIENT_DESCENT_FIX_LEARNING_RATE - cyclic"
   ]
  },
  {
   "cell_type": "code",
   "execution_count": 497,
   "metadata": {},
   "outputs": [
    {
     "name": "stdout",
     "output_type": "stream",
     "text": [
      "AlgorithmType.STOCHASTIC_GRADIENT_DESCENT_FIX_LEARNING_RATE | Best value: 0.365938\n",
      "{'batch_size': 1, 'rule': 1, 'random_seed': 10}\n"
     ]
    },
    {
     "data": {
      "image/png": "[encoded data removed]",
      "text/plain": [
       "<Figure size 640x480 with 1 Axes>"
      ]
     },
     "metadata": {},
     "output_type": "display_data"
    }
   ],
   "source": [
    "ALGORITHM_TYPE = AlgorithmType.STOCHASTIC_GRADIENT_DESCENT_FIX_LEARNING_RATE\n",
    "INITIAL_W = np.zeros((Xbar.shape[0], 1))\n",
    "INITIAL_LEARNING_RATE = 0.01\n",
    "MAX_EPOCHS = 500\n",
    "EPS = 1e-6\n",
    "\n",
    "BATCH_SIZE = 1\n",
    "RULE = 1\n",
    "RANDOM_SEED = 10\n",
    "\n",
    "\n",
    "# ADDITIONAL PARAMETERS\n",
    "ADDITIONAL_PARAMETERS = ALGORITHM_TYPE.value\n",
    "\n",
    "ADDITIONAL_PARAMETERS[\"batch_size\"] = BATCH_SIZE\n",
    "ADDITIONAL_PARAMETERS[\"rule\"] = RULE\n",
    "ADDITIONAL_PARAMETERS[\"random_seed\"] = RANDOM_SEED\n",
    "\n",
    "\n",
    "solution, best_loss_value = one_for_all(\n",
    "    algorithm_type=ALGORITHM_TYPE,\n",
    "    Xbar=Xbar,\n",
    "    y=y,\n",
    "    cost=cost,\n",
    "    grad=grad,\n",
    "    initial_w=INITIAL_W,\n",
    "    initial_learning_rate=INITIAL_LEARNING_RATE,\n",
    "    algorithm_name=ALGORITHM_TYPE,\n",
    "    max_epochs=MAX_EPOCHS,\n",
    "    eps=EPS,\n",
    "    marker=\"*\",\n",
    "    additional_parameters=ADDITIONAL_PARAMETERS,\n",
    ")"
   ]
  },
  {
   "cell_type": "markdown",
   "metadata": {
    "vscode": {
     "languageId": "plaintext"
    }
   },
   "source": [
    "## 6. Algorithms comparison"
   ]
  },
  {
   "cell_type": "markdown",
   "metadata": {},
   "source": [
    "### 6.1. SKLEARN: SGDClassifier | log loss"
   ]
  },
  {
   "cell_type": "code",
   "execution_count": 498,
   "metadata": {},
   "outputs": [
    {
     "name": "stdout",
     "output_type": "stream",
     "text": [
      "Loss value: 0.112774\n"
     ]
    },
    {
     "data": {
      "image/png": "[encoded data removed]",
      "text/plain": [
       "<Figure size 640x480 with 1 Axes>"
      ]
     },
     "metadata": {},
     "output_type": "display_data"
    }
   ],
   "source": [
    "NUMBER_OF_EPOCHS = 1000\n",
    "INITIAL_LEARNING_RATE = 0.01\n",
    "\n",
    "X_fit = X.T\n",
    "\n",
    "sklearn_SGDClassifier_model = SGDClassifier(\n",
    "    loss=\"log_loss\",\n",
    "    learning_rate=\"constant\",\n",
    "    eta0=INITIAL_LEARNING_RATE,\n",
    "    max_iter=1,\n",
    "    tol=None,\n",
    "    random_state=42,\n",
    "    warm_start=True,\n",
    ")\n",
    "\n",
    "log_loss_values = []\n",
    "\n",
    "for epoch in range(1, NUMBER_OF_EPOCHS + 1):  # Train for NUMBER_OF_EPOCHS epochs\n",
    "    sklearn_SGDClassifier_model.fit(X_fit, y)\n",
    "    y_prob = sklearn_SGDClassifier_model.predict_proba(X_fit)\n",
    "    loss = log_loss(y, y_prob)\n",
    "    log_loss_values.append(loss)\n",
    "\n",
    "# Print solution\n",
    "print(f\"Loss value: {log_loss_values[-1]:.6f}\")\n",
    "\n",
    "# Plot the loss curve\n",
    "plt.plot(range(1, NUMBER_OF_EPOCHS + 1), log_loss_values, marker=\"*\")\n",
    "plt.xlabel(\"Epoch\")\n",
    "plt.ylabel(\"Loss value\")\n",
    "plt.title(\n",
    "    f\"Sklearn - SGDClassifier | nepochs: {NUMBER_OF_EPOCHS} | learning rate: {INITIAL_LEARNING_RATE}\"\n",
    ")\n",
    "plt.show()"
   ]
  },
  {
   "cell_type": "markdown",
   "metadata": {},
   "source": [
    "### 6.2. The simplest model | log loss"
   ]
  },
  {
   "cell_type": "code",
   "execution_count": null,
   "metadata": {},
   "outputs": [],
   "source": []
  },
  {
   "cell_type": "markdown",
   "metadata": {
    "vscode": {
     "languageId": "plaintext"
    }
   },
   "source": [
    "## 7. Conclusion"
   ]
  }
 ],
 "metadata": {
  "kernelspec": {
   "display_name": "Python 3",
   "language": "python",
   "name": "python3"
  },
  "language_info": {
   "codemirror_mode": {
    "name": "ipython",
    "version": 3
   },
   "file_extension": ".py",
   "mimetype": "text/x-python",
   "name": "python",
   "nbconvert_exporter": "python",
   "pygments_lexer": "ipython3",
   "version": "3.12.4"
  }
 },
 "nbformat": 4,
 "nbformat_minor": 2
}
