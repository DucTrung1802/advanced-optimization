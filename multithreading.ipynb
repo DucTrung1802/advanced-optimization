{
 "cells": [
  {
   "cell_type": "code",
   "execution_count": 4,
   "metadata": {},
   "outputs": [
    {
     "name": "stdout",
     "output_type": "stream",
     "text": [
      "Func 1: 0\n",
      "Func 2: 0\n",
      "Func 1: 1\n",
      "Func 2: 1\n",
      "Func 1: 2\n",
      "Func 2: 2\n",
      "Func 1: 3\n",
      "Func 2: 3\n",
      "Func 1: 4\n",
      "Func 2: 4\n",
      "Done!\n"
     ]
    }
   ],
   "source": [
    "import threading\n",
    "import time\n",
    "\n",
    "def func1(num):\n",
    "    for i in range(num):\n",
    "        time.sleep(0.5)\n",
    "        print(f\"Func 1: {i}\")\n",
    "\n",
    "\n",
    "def func2(num):\n",
    "    for i in range(num):\n",
    "        time.sleep(0.5)\n",
    "        print(f\"Func 2: {i}\")\n",
    "\n",
    "\n",
    "if __name__ ==\"__main__\":\n",
    "    t1 = threading.Thread(target=func1, args=(5,))\n",
    "    t2 = threading.Thread(target=func2, args=(5,))\n",
    "\n",
    "    t1.start()\n",
    "    t2.start()\n",
    "\n",
    "    t1.join()\n",
    "    t2.join()\n",
    "\n",
    "    print(\"Done!\")\n"
   ]
  },
  {
   "cell_type": "code",
   "execution_count": 1,
   "metadata": {},
   "outputs": [
    {
     "name": "stdout",
     "output_type": "stream",
     "text": [
      "Func 1: 2\n",
      "Func 2: 3\n",
      "Func 1: 4\n",
      "Func 2: 5\n",
      "Func 1: 6\n",
      "Func 2: 7\n",
      "Func 1: 8\n",
      "Func 2: 9\n",
      "Func 1: 10\n",
      "Func 2: 11\n",
      "Done!\n"
     ]
    }
   ],
   "source": [
    "import threading\n",
    "import time\n",
    "\n",
    "# Shared variable\n",
    "w = 1\n",
    "\n",
    "# Lock for synchronizing access to the shared variable\n",
    "lock = threading.Lock()\n",
    "\n",
    "def func1(num):\n",
    "    global w\n",
    "    for i in range(num):\n",
    "        with lock:\n",
    "            w += 1\n",
    "            print(f\"Func 1: {w}\")\n",
    "        time.sleep(0.5)\n",
    "\n",
    "def func2(num):\n",
    "    global w\n",
    "    for i in range(num):\n",
    "        with lock:\n",
    "            w += 1\n",
    "            print(f\"Func 2: {w}\")\n",
    "        time.sleep(0.5)\n",
    "\n",
    "def main_func():\n",
    "    t1.start()\n",
    "    t2.start()\n",
    "\n",
    "if __name__ == \"__main__\":\n",
    "    t1 = threading.Thread(target=func1, args=(5,))\n",
    "    t2 = threading.Thread(target=func2, args=(5,))\n",
    "\n",
    "    t1.start()\n",
    "    t2.start()\n",
    "\n",
    "    t1.join()\n",
    "    t2.join()\n",
    "\n",
    "    print(\"Done!\")\n"
   ]
  },
  {
   "cell_type": "code",
   "execution_count": 1,
   "metadata": {},
   "outputs": [
    {
     "name": "stdout",
     "output_type": "stream",
     "text": [
      "Thread 2 is running...\n",
      "Thread 1 is starting...\n",
      "Thread 2 is running...\n",
      "Thread 2 is running...\n",
      "Thread 2 is running...\n",
      "Thread 2 is running...\n",
      "Thread 1 is finishing...\n",
      "Thread 2 stopping...\n",
      "Both threads have finished.\n"
     ]
    }
   ],
   "source": [
    "import threading\n",
    "import time\n",
    "\n",
    "# Function to be executed by thread 2\n",
    "def thread2_function(stop_event):\n",
    "    while not stop_event.is_set():\n",
    "        print(\"Thread 2 is running...\")\n",
    "        time.sleep(1)\n",
    "    print(\"Thread 2 stopping...\")\n",
    "\n",
    "# Function to be executed by thread 1\n",
    "def thread1_function(stop_event):\n",
    "    print(\"Thread 1 is starting...\")\n",
    "    time.sleep(5)  # Simulate work\n",
    "    print(\"Thread 1 is finishing...\")\n",
    "    stop_event.set()  # Signal thread 2 to stop\n",
    "\n",
    "# Create an event object for signaling\n",
    "stop_event = threading.Event()\n",
    "\n",
    "# Create and start thread 2\n",
    "t2 = threading.Thread(target=thread2_function, args=(stop_event,))\n",
    "t2.start()\n",
    "\n",
    "# Create and start thread 1\n",
    "t1 = threading.Thread(target=thread1_function, args=(stop_event,))\n",
    "t1.start()\n",
    "\n",
    "# Wait for thread 1 to finish\n",
    "t1.join()\n",
    "\n",
    "# Wait for thread 2 to finish\n",
    "t2.join()\n",
    "\n",
    "print(\"Both threads have finished.\")\n"
   ]
  }
 ],
 "metadata": {
  "kernelspec": {
   "display_name": "Python 3",
   "language": "python",
   "name": "python3"
  },
  "language_info": {
   "codemirror_mode": {
    "name": "ipython",
    "version": 3
   },
   "file_extension": ".py",
   "mimetype": "text/x-python",
   "name": "python",
   "nbconvert_exporter": "python",
   "pygments_lexer": "ipython3",
   "version": "3.12.4"
  }
 },
 "nbformat": 4,
 "nbformat_minor": 2
}
