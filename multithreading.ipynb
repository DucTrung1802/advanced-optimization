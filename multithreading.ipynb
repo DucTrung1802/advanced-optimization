{
 "cells": [
  {
   "cell_type": "code",
   "execution_count": 4,
   "metadata": {},
   "outputs": [
    {
     "name": "stdout",
     "output_type": "stream",
     "text": [
      "Func 1: 0\n",
      "Func 2: 0\n",
      "Func 1: 1\n",
      "Func 2: 1\n",
      "Func 1: 2\n",
      "Func 2: 2\n",
      "Func 1: 3\n",
      "Func 2: 3\n",
      "Func 1: 4\n",
      "Func 2: 4\n",
      "Done!\n"
     ]
    }
   ],
   "source": [
    "import threading\n",
    "import time\n",
    "\n",
    "def func1(num):\n",
    "    for i in range(num):\n",
    "        time.sleep(0.5)\n",
    "        print(f\"Func 1: {i}\")\n",
    "\n",
    "\n",
    "def func2(num):\n",
    "    for i in range(num):\n",
    "        time.sleep(0.5)\n",
    "        print(f\"Func 2: {i}\")\n",
    "\n",
    "\n",
    "if __name__ ==\"__main__\":\n",
    "    t1 = threading.Thread(target=func1, args=(5,))\n",
    "    t2 = threading.Thread(target=func2, args=(5,))\n",
    "\n",
    "    t1.start()\n",
    "    t2.start()\n",
    "\n",
    "    t1.join()\n",
    "    t2.join()\n",
    "\n",
    "    print(\"Done!\")\n"
   ]
  }
 ],
 "metadata": {
  "kernelspec": {
   "display_name": "Python 3",
   "language": "python",
   "name": "python3"
  },
  "language_info": {
   "codemirror_mode": {
    "name": "ipython",
    "version": 3
   },
   "file_extension": ".py",
   "mimetype": "text/x-python",
   "name": "python",
   "nbconvert_exporter": "python",
   "pygments_lexer": "ipython3",
   "version": "3.12.4"
  }
 },
 "nbformat": 4,
 "nbformat_minor": 2
}
